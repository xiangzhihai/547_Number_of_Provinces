{
 "cells": [
  {
   "cell_type": "markdown",
   "metadata": {},
   "source": [
    "# Union-Find (Disjoint Set Union) with Union by Rank and Path Compression\n",
    "\n",
    "This notebook demonstrates the Union-Find data structure with optimizations, including **Union by Rank** and **Path Compression**. We'll cover the code implementation, explain how it works, and analyze its complexity."
   ]
  },
  {
   "cell_type": "code",
   "execution_count": 1,
   "metadata": {},
   "outputs": [],
   "source": [
    "class UnionFind:\n",
    "    def __init__(self, size):\n",
    "        # Initialize parent array where each element is its own parent\n",
    "        self.parent = list(range(size))\n",
    "        # Rank array to keep track of the tree height\n",
    "        self.rank = [0] * size\n",
    "\n",
    "    def find(self, x):\n",
    "        # Path compression: make the found root the parent of x\n",
    "        if self.parent[x] != x:\n",
    "            self.parent[x] = self.find(self.parent[x])  # Recursively find the root and compress path\n",
    "        return self.parent[x]\n",
    "\n",
    "    def union(self, x, y):\n",
    "        # Find the roots of x and y\n",
    "        rootX = self.find(x)\n",
    "        rootY = self.find(y)\n",
    "\n",
    "        # Only union if roots are different\n",
    "        if rootX != rootY:\n",
    "            # Union by rank: attach smaller tree to larger tree\n",
    "            if self.rank[rootX] > self.rank[rootY]:\n",
    "                self.parent[rootY] = rootX\n",
    "            elif self.rank[rootX] < self.rank[rootY]:\n",
    "                self.parent[rootX] = rootY\n",
    "            else:\n",
    "                # If ranks are the same, make one root the parent and increase its rank\n",
    "                self.parent[rootY] = rootX\n",
    "                self.rank[rootX] += 1"
   ]
  },
  {
   "cell_type": "markdown",
   "metadata": {},
   "source": [
    "## Explanation of Code\n",
    "\n",
    "1. **Initialization**:\n",
    "   - `parent` array: Each element is initially its own parent, meaning each element is a separate set.\n",
    "   - `rank` array: Starts at 0 for all elements, used to keep track of the height of each tree.\n",
    "\n",
    "2. **Find with Path Compression**:\n",
    "   - The `find` function recursively finds the root of an element. During the search, each node along the path points directly to the root, flattening the tree for faster future queries.\n",
    "\n",
    "3. **Union with Union by Rank**:\n",
    "   - The `union` function attaches the root of the smaller tree to the root of the larger tree based on the `rank`.\n",
    "   - If both trees have the same rank, it arbitrarily chooses one as the new root and increments its rank by 1."
   ]
  },
  {
   "cell_type": "markdown",
   "metadata": {},
   "source": [
    "## Complexity Analysis\n",
    "\n",
    "\n",
    "- **Naive Union-Find**:\n",
    "   - Union and Find operations have a time complexity of \\(O(n)\\), where \\(n\\) is the number of elements.\n",
    "   - This is because, in the naive implementation, each operation may require traversing the entire structure to find or union sets.\n",
    "\n",
    "With Union by Rank and Path Compression, Union-Find operations achieve a **nearly constant amortized time complexity**:\n",
    "\n",
    "- **Time Complexity per Operation**: \\(O($\\alpha$(n))\\)\n",
    "   - \\($\\alpha$(n)\\) is the **inverse Ackermann function**, which grows extremely slowly. For any practical input size, O($\\alpha$(n)) is less than 5, making the complexity effectively \\(O(1)\\).\n",
    "\n",
    "- **Overall Time Complexity for \\(m\\) operations on \\(n\\) elements**: \\(O(m $\\cdot$ $\\alpha$(n))\\)\n",
    "   - Even for large data sets, this is highly efficient, allowing Union-Find to handle large numbers of elements and operations effectively.\n",
    "\n",
    "### Why Rank and Path Compression Matter\n",
    "\n",
    "- **Path Compression**: By making each node on the path point directly to the root, path compression flattens the structure, reducing the depth of the tree.\n",
    "- **Union by Rank**: Helps maintain a shallow tree by always attaching the smaller tree to the larger one, ensuring minimal height growth.\n",
    "\n",
    "Together, these optimizations keep the tree height low, allowing Union-Find to operate with near-constant time efficiency."
   ]
  },
  {
   "cell_type": "code",
   "execution_count": 3,
   "metadata": {},
   "outputs": [
    {
     "name": "stdout",
     "output_type": "stream",
     "text": [
      "Root of element 1: 1\n",
      "Root of element 5: 4\n",
      "Are elements 3 and 1 connected? True\n",
      "Are elements 4 and 7 connected? True\n"
     ]
    }
   ],
   "source": [
    "# Example usage of the Union-Find class\n",
    "uf = UnionFind(10)  # Create Union-Find for 10 elements (0 to 9)\n",
    "uf.union(1, 2)\n",
    "uf.union(2, 3)\n",
    "uf.union(4, 5)\n",
    "uf.union(6, 7)\n",
    "uf.union(5, 6)\n",
    "\n",
    "# Output results\n",
    "print(\"Root of element 1:\", uf.find(1))  # Root of the set containing 1 (should be the same for 1, 2, and 3)\n",
    "print(\"Root of element 5:\", uf.find(5))  # Root of the set containing 5 (should be the same for 4, 5, 6, and 7)\n",
    "print(\"Are elements 3 and 1 connected?\", uf.find(3) == uf.find(1))  # True, since 1 and 3 are connected\n",
    "print(\"Are elements 4 and 7 connected?\", uf.find(4) == uf.find(7))  # True, since 4 and 7 are connected through 5 and 6"
   ]
  }
 ],
 "metadata": {
  "kernelspec": {
   "display_name": "base",
   "language": "python",
   "name": "python3"
  },
  "language_info": {
   "codemirror_mode": {
    "name": "ipython",
    "version": 3
   },
   "file_extension": ".py",
   "mimetype": "text/x-python",
   "name": "python",
   "nbconvert_exporter": "python",
   "pygments_lexer": "ipython3",
   "version": "3.9.7"
  }
 },
 "nbformat": 4,
 "nbformat_minor": 2
}
